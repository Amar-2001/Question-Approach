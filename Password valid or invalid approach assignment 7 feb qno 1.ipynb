{
 "cells": [
  {
   "cell_type": "code",
   "execution_count": 3,
   "id": "00180c1a-7e3d-421c-a43d-14d3976587e1",
   "metadata": {},
   "outputs": [
    {
     "name": "stdin",
     "output_type": "stream",
     "text": [
      "Enter the password : Natasha@2002\n"
     ]
    },
    {
     "name": "stdout",
     "output_type": "stream",
     "text": [
      "1\n",
      "6\n",
      "4\n",
      "1\n"
     ]
    }
   ],
   "source": [
    "# Step 1\n",
    "\n",
    "pwd=input(\"Enter the password :\")\n",
    "num=0\n",
    "ucase=0\n",
    "lcase=0\n",
    "spec=0  \n",
    "    # pwd=str(input(\"Enter the password : \"))\n",
    "for i in pwd:\n",
    "    if i.isupper():\n",
    "        ucase=ucase+1\n",
    "    elif i.islower():\n",
    "        lcase=lcase+1\n",
    "    elif i.isnumeric():\n",
    "        num=num+1\n",
    "    else:\n",
    "        spec=spec+1\n",
    "            \n",
    "print(ucase)\n",
    "print(lcase)\n",
    "print(num)\n",
    "print(spec)"
   ]
  },
  {
   "cell_type": "code",
   "execution_count": 4,
   "id": "9b83402d-1a95-4541-aa0a-e5afbdad4c16",
   "metadata": {},
   "outputs": [
    {
     "name": "stdin",
     "output_type": "stream",
     "text": [
      "Enter the password : Scarlet@K23@#\n"
     ]
    },
    {
     "name": "stdout",
     "output_type": "stream",
     "text": [
      "Valid Password\n"
     ]
    }
   ],
   "source": [
    "# step 2\n",
    "\n",
    "pwd=input(\"Enter the password :\")\n",
    "num=0\n",
    "ucase=0\n",
    "lcase=0\n",
    "spec=0  \n",
    "    \n",
    "for i in pwd:\n",
    "    if i.isupper():\n",
    "        ucase=ucase+1\n",
    "    elif i.islower():\n",
    "        lcase=lcase+1\n",
    "    elif i.isnumeric():\n",
    "        num=num+1\n",
    "    else:\n",
    "        spec=spec+1\n",
    "        \n",
    " \n",
    "if(ucase>=2 and lcase>=2 and num>=1 and spec>=3 and len(pwd)>10):\n",
    "    print(\"Valid Password\")\n",
    "else:\n",
    "    print(\"Invalid password\")\n",
    "        \n"
   ]
  },
  {
   "cell_type": "code",
   "execution_count": 19,
   "id": "13f4177b-87f2-41ca-b032-0349c264d1c0",
   "metadata": {},
   "outputs": [
    {
     "name": "stdin",
     "output_type": "stream",
     "text": [
      "Enter the password : Sumit@K23@99%\n"
     ]
    },
    {
     "name": "stdout",
     "output_type": "stream",
     "text": [
      "Valid Password\n"
     ]
    }
   ],
   "source": [
    "\n",
    "# Step 3\n",
    "\n",
    "def password(): #definition\n",
    "    \n",
    "    pwd=input(\"Enter the password :\")\n",
    "    num=0\n",
    "    ucase=0\n",
    "    lcase=0\n",
    "    spec=0  \n",
    "\n",
    "    for i in pwd:\n",
    "        if i.isupper():\n",
    "            ucase=ucase+1\n",
    "        elif i.islower():\n",
    "            lcase=lcase+1\n",
    "        elif i.isnumeric():\n",
    "            num=num+1\n",
    "        else:\n",
    "            spec=spec+1\n",
    "        \n",
    "    if(ucase>=2 and lcase>=2 and num>=1 and spec>=3 and len(pwd)>10):\n",
    "        print(\"Valid Password\")\n",
    "    else:\n",
    "        print(\"Invalid password\")\n",
    "\n",
    "password() # calling\n",
    "        \n",
    "        "
   ]
  },
  {
   "cell_type": "markdown",
   "id": "0c7ee820-d279-4656-a440-a4bad9907895",
   "metadata": {},
   "source": []
  }
 ],
 "metadata": {
  "kernelspec": {
   "display_name": "Python 3 (ipykernel)",
   "language": "python",
   "name": "python3"
  },
  "language_info": {
   "codemirror_mode": {
    "name": "ipython",
    "version": 3
   },
   "file_extension": ".py",
   "mimetype": "text/x-python",
   "name": "python",
   "nbconvert_exporter": "python",
   "pygments_lexer": "ipython3",
   "version": "3.10.8"
  }
 },
 "nbformat": 4,
 "nbformat_minor": 5
}
