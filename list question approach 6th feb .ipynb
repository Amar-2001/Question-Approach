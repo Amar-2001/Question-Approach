{
 "cells": [
  {
   "cell_type": "code",
   "execution_count": 1,
   "id": "a912d206-82be-4397-a890-0e372142aca1",
   "metadata": {},
   "outputs": [],
   "source": [
    "l=[1, 2, 3, 4, 'Amar', ' Kumar', ' Swarnkar', ['a',5, 6, 7,False, 8]]"
   ]
  },
  {
   "cell_type": "code",
   "execution_count": 2,
   "id": "fc70df25-9f28-4ea0-b667-b74d299f4ba3",
   "metadata": {},
   "outputs": [],
   "source": [
    "def func8(a):\n",
    "    l1=[]\n",
    "    for i in a:\n",
    "        if type(i)==list:\n",
    "            \n",
    "            for j in i:\n",
    "                if type(j)==int:\n",
    "                    l1.append(j)\n",
    "        else:\n",
    "            if type(i)==int:\n",
    "                l1.append(i)\n",
    "    return l1"
   ]
  },
  {
   "cell_type": "code",
   "execution_count": 3,
   "id": "34750679-4fd6-4db1-a717-13f497ae2d5c",
   "metadata": {},
   "outputs": [
    {
     "data": {
      "text/plain": [
       "[1, 2, 3, 4, 5, 6, 7, 8]"
      ]
     },
     "execution_count": 3,
     "metadata": {},
     "output_type": "execute_result"
    }
   ],
   "source": [
    "func8(l)"
   ]
  },
  {
   "cell_type": "code",
   "execution_count": 4,
   "id": "4eba6a04-f3fc-4a18-8fed-b9d3cdb79b02",
   "metadata": {},
   "outputs": [
    {
     "name": "stdout",
     "output_type": "stream",
     "text": [
      "40320\n"
     ]
    }
   ],
   "source": [
    "mul=1\n",
    "for m in func8(l):\n",
    "    mul=mul*m\n",
    "print(mul)"
   ]
  },
  {
   "cell_type": "code",
   "execution_count": 5,
   "id": "555daf7e-4ca5-45d9-93f6-c827a4d34fad",
   "metadata": {},
   "outputs": [],
   "source": [
    "# **********************************************"
   ]
  },
  {
   "cell_type": "code",
   "execution_count": 11,
   "id": "ef9c1362-416e-414a-a8ec-d7cebfd71eae",
   "metadata": {},
   "outputs": [],
   "source": [
    "l=[1,2,3,4, [44,55,66, True], False, (34,56,78,89,34),{1,2,3,3,2,1}, \n",
    "   {19:34, \"key2\": [55, 67, 78, 89], 9: (45, 22, 61, 34)},\n",
    "   [56, 'data science'], 'Machine Learning']"
   ]
  },
  {
   "cell_type": "code",
   "execution_count": 7,
   "id": "ea800168-07c5-4cc3-8a7f-4a4f73c0efc0",
   "metadata": {},
   "outputs": [
    {
     "data": {
      "text/plain": [
       "[1,\n",
       " 2,\n",
       " 3,\n",
       " 4,\n",
       " [44, 55, 66, True],\n",
       " False,\n",
       " (34, 56, 78, 89, 34),\n",
       " {1, 2, 3},\n",
       " {19: 34, 'key2': [55, 67, 78, 89], 9: (45, 22, 61, 34)},\n",
       " [56, 'data science'],\n",
       " 'Machine Learning']"
      ]
     },
     "execution_count": 7,
     "metadata": {},
     "output_type": "execute_result"
    }
   ],
   "source": [
    "l"
   ]
  },
  {
   "cell_type": "code",
   "execution_count": 8,
   "id": "16daea68-003c-49b9-bd35-8a0aa4d79712",
   "metadata": {},
   "outputs": [],
   "source": [
    "# Step 1\n"
   ]
  },
  {
   "cell_type": "code",
   "execution_count": 12,
   "id": "eab961aa-b51f-405f-b2be-a7f4e2bef2c8",
   "metadata": {},
   "outputs": [
    {
     "name": "stdout",
     "output_type": "stream",
     "text": [
      "1\n",
      "2\n",
      "3\n",
      "4\n",
      "[44, 55, 66, True]\n",
      "(34, 56, 78, 89, 34)\n",
      "{1, 2, 3}\n",
      "{19: 34, 'key2': [55, 67, 78, 89], 9: (45, 22, 61, 34)}\n",
      "[56, 'data science']\n"
     ]
    }
   ],
   "source": [
    "def func(a):\n",
    "    l1=[]\n",
    "    for i in a:\n",
    "        if type(i)==list:\n",
    "            print(i)\n",
    "        elif type(i)==tuple:\n",
    "            print(i)\n",
    "        elif type(i)==set:\n",
    "            print(i)\n",
    "        elif type(i)==dict:\n",
    "            print(i)\n",
    "        elif type(i)==int:\n",
    "            print(i)\n",
    "func(l)"
   ]
  },
  {
   "cell_type": "code",
   "execution_count": 23,
   "id": "ea33547d-14ba-4835-a664-cbb82c41f9e0",
   "metadata": {},
   "outputs": [],
   "source": [
    "# step 2 extracting values from inside list tuple set \n",
    "# and dict(only keys element of dict)"
   ]
  },
  {
   "cell_type": "code",
   "execution_count": 27,
   "id": "8a1e15b6-f567-473f-97d2-a0164397258c",
   "metadata": {},
   "outputs": [],
   "source": [
    "def func(a):\n",
    "    l1=[]\n",
    "    for i in a:\n",
    "        \n",
    "        if type(i)==list:\n",
    "            for j in i:\n",
    "                if type(j)==int:\n",
    "                    print(j)\n",
    "            \n",
    "        elif type(i)==tuple:\n",
    "            for k in i:\n",
    "                if type(k)==int:\n",
    "                    print(k)\n",
    "           \n",
    "        elif type(i)==set:\n",
    "            for m in i:\n",
    "                if type(m)==int:\n",
    "                    print(m)\n",
    "                    \n",
    "        elif type(i)==dict:\n",
    "            for n in i:\n",
    "                if type(n)==int:\n",
    "                    print(n)\n",
    "                    \n",
    "        elif type(i)==int:\n",
    "            print(i)\n"
   ]
  },
  {
   "cell_type": "code",
   "execution_count": 28,
   "id": "65fcf508-2f15-43fe-88f2-93cf93282617",
   "metadata": {},
   "outputs": [
    {
     "name": "stdout",
     "output_type": "stream",
     "text": [
      "1\n",
      "2\n",
      "3\n",
      "4\n",
      "44\n",
      "55\n",
      "66\n",
      "34\n",
      "56\n",
      "78\n",
      "89\n",
      "34\n",
      "1\n",
      "2\n",
      "3\n",
      "19\n",
      "9\n",
      "56\n"
     ]
    }
   ],
   "source": [
    "func(l)"
   ]
  },
  {
   "cell_type": "code",
   "execution_count": 17,
   "id": "29b13e8c-746c-41f6-96ff-db832e0704a6",
   "metadata": {},
   "outputs": [],
   "source": [
    "# step 3 find value from dictionary"
   ]
  },
  {
   "cell_type": "code",
   "execution_count": 15,
   "id": "485a9f40-c785-45ab-bf2b-2bd5c95ee09e",
   "metadata": {},
   "outputs": [],
   "source": [
    "n={19: 34, 'key2': [55, 67, 78, 89], 9: (45, 22, 61, 34)}"
   ]
  },
  {
   "cell_type": "code",
   "execution_count": 16,
   "id": "4600aa63-1e4a-4679-94ee-88797aca42ba",
   "metadata": {},
   "outputs": [
    {
     "name": "stdout",
     "output_type": "stream",
     "text": [
      "19\n",
      "9\n",
      "34\n",
      "55\n",
      "67\n",
      "78\n",
      "89\n",
      "45\n",
      "22\n",
      "61\n",
      "34\n"
     ]
    }
   ],
   "source": [
    "for i in n.keys():\n",
    "    if type(i)==int:\n",
    "        print(i)\n",
    "\n",
    "\n",
    "\n",
    "for i in n.values():\n",
    "    if type(i)==int:\n",
    "        print(i)\n",
    "    elif type(i)==list:\n",
    "        for j in i:\n",
    "            if type(j)==int:\n",
    "                print(j)\n",
    "    elif type(i)==tuple:\n",
    "        for k in i:\n",
    "            if type(k)==int:\n",
    "                print(k)\n",
    "\n",
    "\n",
    "                "
   ]
  },
  {
   "cell_type": "code",
   "execution_count": 18,
   "id": "572a6a3a-b40f-4717-8abe-da9d86c4b8a9",
   "metadata": {},
   "outputs": [],
   "source": [
    "# step 4 find all values from list"
   ]
  },
  {
   "cell_type": "code",
   "execution_count": 13,
   "id": "411ace2b-84b9-4798-949c-3262f3c5b1c9",
   "metadata": {},
   "outputs": [],
   "source": [
    "def func(a):\n",
    "    l1=[]\n",
    "    for i in a:\n",
    "        if type(i)==list:\n",
    "            for j in i:\n",
    "                if type(j)==int:\n",
    "                    # l1.append(j)\n",
    "                    print(j)\n",
    "        elif type(i)==tuple:\n",
    "            for k in i:\n",
    "                if type(k)==int:\n",
    "                    # l1.append(k)\n",
    "                    print(k)\n",
    "        elif type(i)==set:\n",
    "            for m in i:\n",
    "                if type(m)==int:\n",
    "                    # l1.append(m)\n",
    "                    print(m)\n",
    "                    \n",
    "        elif type(i)==dict:   \n",
    "            \n",
    "            for n in i.keys():\n",
    "                if type(n)==int:\n",
    "                    print(n)\n",
    "                \n",
    "            for n in i.values():\n",
    "                if type(n)==int:   #34\n",
    "                    print(n)\n",
    "                    \n",
    "                elif type(n)==list:\n",
    "                    for n1 in n:\n",
    "                        if type(n1)==int:\n",
    "                            print(n1)\n",
    "                            \n",
    "                elif type(n)==tuple:\n",
    "                    for n2 in n:\n",
    "                        if type(n2)==int:\n",
    "                            print(n2)\n",
    "                        \n",
    "                    \n",
    "        elif type(i)==int:\n",
    "            # l1.append(i)\n",
    "            print(i)\n",
    "        # return l1"
   ]
  },
  {
   "cell_type": "code",
   "execution_count": 14,
   "id": "7914ffc5-4daa-4025-9eea-433092a95445",
   "metadata": {},
   "outputs": [
    {
     "name": "stdout",
     "output_type": "stream",
     "text": [
      "1\n",
      "2\n",
      "3\n",
      "4\n",
      "44\n",
      "55\n",
      "66\n",
      "34\n",
      "56\n",
      "78\n",
      "89\n",
      "34\n",
      "1\n",
      "2\n",
      "3\n",
      "19\n",
      "9\n",
      "34\n",
      "55\n",
      "67\n",
      "78\n",
      "89\n",
      "45\n",
      "22\n",
      "61\n",
      "34\n",
      "56\n"
     ]
    }
   ],
   "source": [
    "func(l)"
   ]
  },
  {
   "cell_type": "code",
   "execution_count": 19,
   "id": "753e07ed-81a8-4353-b3f3-209d210ed335",
   "metadata": {},
   "outputs": [],
   "source": [
    "# step 5 converting them in list"
   ]
  },
  {
   "cell_type": "code",
   "execution_count": 21,
   "id": "1f7730be-f897-4fdc-9d70-fe1eb436ac41",
   "metadata": {},
   "outputs": [],
   "source": [
    "def func(a):\n",
    "    l1=[]\n",
    "    for i in a:\n",
    "        \n",
    "        if type(i)==list:\n",
    "            for j in i:\n",
    "                if type(j)==int:\n",
    "                    l1.append(j)\n",
    "                    \n",
    "        elif type(i)==tuple:\n",
    "            for k in i:\n",
    "                if type(k)==int:\n",
    "                    l1.append(k)\n",
    "                   \n",
    "        elif type(i)==set:\n",
    "            for m in i:\n",
    "                if type(m)==int:\n",
    "                    l1.append(m)\n",
    "                    \n",
    "                    \n",
    "        elif type(i)==dict:   \n",
    "            \n",
    "            for n in i.keys():\n",
    "                if type(n)==int:\n",
    "                    l1.append(n)\n",
    "                \n",
    "            for n in i.values():\n",
    "                if type(n)==int:   #34\n",
    "                    l1.append(n)\n",
    "                    \n",
    "                elif type(n)==list:\n",
    "                    for n1 in n:\n",
    "                        if type(n1)==int:\n",
    "                            l1.append(n1)\n",
    "                            \n",
    "                elif type(n)==tuple:\n",
    "                    for n2 in n:\n",
    "                        if type(n2)==int:\n",
    "                            l1.append(n2)\n",
    "                        \n",
    "                    \n",
    "        elif type(i)==int:\n",
    "            l1.append(i)\n",
    "\n",
    "    return l1\n",
    "    # print(l1,end='')"
   ]
  },
  {
   "cell_type": "code",
   "execution_count": 22,
   "id": "879c95f6-805b-4570-ad5c-b8e41fb3cf39",
   "metadata": {},
   "outputs": [
    {
     "name": "stdout",
     "output_type": "stream",
     "text": [
      "[1, 2, 3, 4, 44, 55, 66, 34, 56, 78, 89, 34, 1, 2, 3, 19, 9, 34, 55, 67, 78, 89, 45, 22, 61, 34, 56]\n"
     ]
    }
   ],
   "source": [
    "s=func(l)\n",
    "l1=[]\n",
    "for i in s:\n",
    "    l1.append(i)\n",
    "print(l1)\n"
   ]
  },
  {
   "cell_type": "code",
   "execution_count": 36,
   "id": "7cb98346-a93b-4170-989a-6ac473ce3cbe",
   "metadata": {},
   "outputs": [],
   "source": [
    "# step 6 finally product of list"
   ]
  },
  {
   "cell_type": "code",
   "execution_count": 37,
   "id": "2ce09df4-9571-4840-8c9c-a8b9a74012f2",
   "metadata": {},
   "outputs": [
    {
     "name": "stdout",
     "output_type": "stream",
     "text": [
      "176758931116697904220146713100288000\n"
     ]
    }
   ],
   "source": [
    "\n",
    "product=1\n",
    "for num in l1:\n",
    "    product=product * num\n",
    "print(product)"
   ]
  },
  {
   "cell_type": "code",
   "execution_count": 41,
   "id": "f0a8bdaa-2a53-457b-a6f2-d4a5c0854751",
   "metadata": {},
   "outputs": [
    {
     "name": "stdout",
     "output_type": "stream",
     "text": [
      "1* 2* 3* 4* 44* 55* 66* 34* 56* 78* 89* 34* 1* 2* 3* 19* 9* 34* 55* 67* 78* 89* 45* 22* 61* 34* 56\n"
     ]
    }
   ],
   "source": [
    "l=\"1, 2, 3, 4, 44, 55, 66, 34, 56, 78, 89, 34, 1, 2, 3, 19, 9, 34, 55, 67, 78, 89, 45, 22, 61, 34, 56\"\n",
    "x=l.replace(\",\",\"*\")\n",
    "print(x)"
   ]
  },
  {
   "cell_type": "code",
   "execution_count": null,
   "id": "1a98779b-1140-4e5c-a8e1-cd374d6a04fd",
   "metadata": {},
   "outputs": [],
   "source": []
  }
 ],
 "metadata": {
  "kernelspec": {
   "display_name": "Python 3 (ipykernel)",
   "language": "python",
   "name": "python3"
  },
  "language_info": {
   "codemirror_mode": {
    "name": "ipython",
    "version": 3
   },
   "file_extension": ".py",
   "mimetype": "text/x-python",
   "name": "python",
   "nbconvert_exporter": "python",
   "pygments_lexer": "ipython3",
   "version": "3.10.8"
  }
 },
 "nbformat": 4,
 "nbformat_minor": 5
}
